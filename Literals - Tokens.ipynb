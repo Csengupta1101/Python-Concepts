{
 "cells": [
  {
   "attachments": {},
   "cell_type": "markdown",
   "metadata": {},
   "source": [
    "#### Literals\n",
    "Literals/values are just data items having fixed/constant value , these values are assigned to identifiers/variables. There are different types of literals in python as below -\n",
    "\n",
    "    -   String Literals -  \n",
    "            -   Single Line String\n",
    "            -   Multi Line String\n",
    "    -   Numeric Literals -\n",
    "            -   Integers\n",
    "                -   Decimal Form\n",
    "                -   Octal Form\n",
    "                -   Hexadecimal Form\n",
    "            -   Floating point numbers\n",
    "            -   Complex Numbers\n",
    "    -   Boolean Literal\n",
    "    -   Special Literal None"
   ]
  },
  {
   "cell_type": "markdown",
   "metadata": {},
   "source": []
  }
 ],
 "metadata": {
  "language_info": {
   "name": "python"
  },
  "orig_nbformat": 4
 },
 "nbformat": 4,
 "nbformat_minor": 2
}

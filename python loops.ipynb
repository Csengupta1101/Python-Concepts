{
 "cells": [
  {
   "cell_type": "code",
   "execution_count": 8,
   "metadata": {},
   "outputs": [
    {
     "name": "stdout",
     "output_type": "stream",
     "text": [
      "20\n"
     ]
    }
   ],
   "source": [
    "# exampleof a nested loop as below\n",
    "loop_lst = []\n",
    "for i in range(5):\n",
    "    for j in range (4):\n",
    "        loop_lst.append('*')\n",
    "''' The outer loop is running for 5 times , and for each time the outer loop is running , the inner loop is running for 4 times'''\n",
    "''' so the total number of times '*' will be appended inside of the list will be 6*4 = 24 times'''\n",
    "print(len(loop_lst))"
   ]
  },
  {
   "cell_type": "code",
   "execution_count": 4,
   "metadata": {},
   "outputs": [
    {
     "name": "stdout",
     "output_type": "stream",
     "text": [
      "[6, 8, 10, 12, 14, 16, 18]\n"
     ]
    }
   ],
   "source": [
    "# storing conditions in a loop\n",
    "''' generally if we have multiple conditions , we tend to write the enitre range of conditions inside of our loop as below'''\n",
    "l1 = []\n",
    "for i in range(1,20):\n",
    "    if (i>5 and i%2==0):\n",
    "        l1.append(i)\n",
    "print(l1)"
   ]
  },
  {
   "cell_type": "code",
   "execution_count": 5,
   "metadata": {},
   "outputs": [
    {
     "name": "stdout",
     "output_type": "stream",
     "text": [
      "[6, 8, 10, 12, 14, 16, 18]\n"
     ]
    }
   ],
   "source": [
    "''' But these two conditions can be provided inside of a separate variable and the same variable can be called upon for the loop execution'''\n",
    "l2 = []\n",
    "for i in range(1,20):\n",
    "    condition = i>5 and i%2==0\n",
    "    if condition:\n",
    "        l2.append(i)\n",
    "print(l2)"
   ]
  },
  {
   "cell_type": "code",
   "execution_count": 7,
   "metadata": {},
   "outputs": [
    {
     "name": "stdout",
     "output_type": "stream",
     "text": [
      "  1   2   3   4   5   6   7   8   9   2   4   6   8 10 12 14 16 18   3   6   9 12 15 18 21 24 27   4   8 12 16 20 24 28 32 36   5 10 15 20 25 30 35 40 45   6 12 18 24 30 36 42 48 54   7 14 21 28 35 42 49 56 63   8 16 24 32 40 48 56 64 72   9 18 27 36 45 54 63 72 81 \n"
     ]
    }
   ],
   "source": [
    "# row column format squared table printing\n",
    "for row in range(1,10):\n",
    "    for col in range(1,10):\n",
    "        prod = row*col\n",
    "        if prod<10:\n",
    "            print(' ',prod,end=' ')\n",
    "        else:\n",
    "            print(prod,end=' ')\n",
    "print()"
   ]
  },
  {
   "cell_type": "code",
   "execution_count": null,
   "metadata": {},
   "outputs": [],
   "source": []
  }
 ],
 "metadata": {
  "kernelspec": {
   "display_name": "github1",
   "language": "python",
   "name": "python3"
  },
  "language_info": {
   "codemirror_mode": {
    "name": "ipython",
    "version": 3
   },
   "file_extension": ".py",
   "mimetype": "text/x-python",
   "name": "python",
   "nbconvert_exporter": "python",
   "pygments_lexer": "ipython3",
   "version": "3.10.8"
  },
  "orig_nbformat": 4
 },
 "nbformat": 4,
 "nbformat_minor": 2
}

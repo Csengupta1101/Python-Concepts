{
 "cells": [
  {
   "attachments": {},
   "cell_type": "markdown",
   "metadata": {},
   "source": [
    "#### Tokens\n",
    "The smallest individual unit a program is called token or a lexical unit. There are 5 types of tokens in python.\n",
    "\n",
    "    -   keywords\n",
    "    -   Identifiers\n",
    "    -   Literals\n",
    "    -   Operators  \n",
    "    -   Punctuator"
   ]
  },
  {
   "attachments": {},
   "cell_type": "markdown",
   "metadata": {},
   "source": [
    "We will write a standard for loop below and will see the specific tokens in it. Detailed discussion about the tokens will take place in the following notebooks. And even if the for loop is unclear from here , we will discuss that in details later on."
   ]
  },
  {
   "cell_type": "code",
   "execution_count": 3,
   "metadata": {},
   "outputs": [
    {
     "name": "stdout",
     "output_type": "stream",
     "text": [
      "2\n",
      "4\n"
     ]
    }
   ],
   "source": [
    "for i in range(1,5):\n",
    "    ''' (for,in,if) these three are the keyword token in the program'''\n",
    "    '''(i) is the identifier in the program'''\n",
    "    '''(%,==) are the operators in the program'''\n",
    "    '''(1,5,0,2) are the literals in the program'''\n",
    "    '''(':',',') are the punctuator in the program   '''\n",
    "    if i%2 == 0:\n",
    "        print(i)"
   ]
  },
  {
   "cell_type": "code",
   "execution_count": null,
   "metadata": {},
   "outputs": [],
   "source": []
  }
 ],
 "metadata": {
  "kernelspec": {
   "display_name": "github1",
   "language": "python",
   "name": "python3"
  },
  "language_info": {
   "codemirror_mode": {
    "name": "ipython",
    "version": 3
   },
   "file_extension": ".py",
   "mimetype": "text/x-python",
   "name": "python",
   "nbconvert_exporter": "python",
   "pygments_lexer": "ipython3",
   "version": "3.10.8"
  },
  "orig_nbformat": 4
 },
 "nbformat": 4,
 "nbformat_minor": 2
}

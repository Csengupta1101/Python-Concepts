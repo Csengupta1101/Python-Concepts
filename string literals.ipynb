{
 "cells": [
  {
   "cell_type": "code",
   "execution_count": 3,
   "metadata": {},
   "outputs": [
    {
     "name": "stdout",
     "output_type": "stream",
     "text": [
      "('python ', 'is', ' the best programming language that one can learn and is completely free')\n"
     ]
    }
   ],
   "source": [
    "''' Partition method helps in separating the string based on given separator as argument'''\n",
    "''' One drawback here is that if your separator occured multiple times then it will only consider the first occurence of the separator while processing the division'''\n",
    "str1 = \"python is the best programming language that one can learn and is completely free\"\n",
    "print(str1.partition('is'))"
   ]
  },
  {
   "cell_type": "code",
   "execution_count": null,
   "metadata": {},
   "outputs": [],
   "source": []
  }
 ],
 "metadata": {
  "kernelspec": {
   "display_name": "github1",
   "language": "python",
   "name": "python3"
  },
  "language_info": {
   "codemirror_mode": {
    "name": "ipython",
    "version": 3
   },
   "file_extension": ".py",
   "mimetype": "text/x-python",
   "name": "python",
   "nbconvert_exporter": "python",
   "pygments_lexer": "ipython3",
   "version": "3.10.8"
  },
  "orig_nbformat": 4
 },
 "nbformat": 4,
 "nbformat_minor": 2
}
